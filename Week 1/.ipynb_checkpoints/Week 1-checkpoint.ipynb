{
 "cells": [
  {
   "cell_type": "markdown",
   "metadata": {
    "slideshow": {
     "slide_type": "slide"
    }
   },
   "source": [
    "# Introduction to Python\n",
    "## Background\n",
    "* Created by Guido van Rossum\n",
    "* Open-source, general purpose, high-level\n",
    "* Procedural, functional, object-oriented\n",
    "* Interpreted language\n",
    "\n",
    "<div class=\"alert alert-block alert-info\">\n",
    "<b>DID YOU KNOW?</b>   The Python language is named after Monty Python, a comedy group from the 70s.\n",
    "</div>"
   ]
  },
  {
   "cell_type": "markdown",
   "metadata": {
    "slideshow": {
     "slide_type": "slide"
    }
   },
   "source": [
    "## Environment Setup"
   ]
  },
  {
   "cell_type": "markdown",
   "metadata": {},
   "source": [
    "## Anaconda Interface"
   ]
  },
  {
   "cell_type": "markdown",
   "metadata": {
    "slideshow": {
     "slide_type": "slide"
    }
   },
   "source": [
    "## Syntax\n",
    "* No need for semi-colon at the end\n",
    "    * In C:\n",
    "    ``` c\n",
    "        printf(\"Hello world!\");\n",
    "    ```\n",
    "    * In Python:\n",
    "    ``` python\n",
    "        print(\"Hello world!\")\n",
    "    ```\n",
    "* Variables are <i> dynamically </i> typed\n",
    "    * They don't have a pre-defined type\n",
    "        * In C:\n",
    "    ``` c\n",
    "        int num1 = 75;\n",
    "        float pi = 3.14159;\n",
    "    ```\n",
    "        * In Python:\n",
    "    ``` python\n",
    "        num1 = 75\n",
    "        pi = 3.14159\n",
    "    ```\n",
    "* Use indentations instead of braces\n"
   ]
  },
  {
   "cell_type": "code",
   "execution_count": null,
   "metadata": {},
   "outputs": [],
   "source": []
  }
 ],
 "metadata": {
  "celltoolbar": "Slideshow",
  "kernelspec": {
   "display_name": "Python 3",
   "language": "python",
   "name": "python3"
  },
  "language_info": {
   "codemirror_mode": {
    "name": "ipython",
    "version": 3
   },
   "file_extension": ".py",
   "mimetype": "text/x-python",
   "name": "python",
   "nbconvert_exporter": "python",
   "pygments_lexer": "ipython3",
   "version": "3.7.1"
  }
 },
 "nbformat": 4,
 "nbformat_minor": 2
}
