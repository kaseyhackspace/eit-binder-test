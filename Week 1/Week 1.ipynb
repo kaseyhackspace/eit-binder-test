{
 "cells": [
  {
   "cell_type": "markdown",
   "metadata": {
    "slideshow": {
     "slide_type": "slide"
    }
   },
   "source": [
    "# Introduction to Python\n",
    " \n",
    "\n",
    "\n",
    "#### Mr. Kasey P. Martin, MIS"
   ]
  },
  {
   "cell_type": "markdown",
   "metadata": {
    "slideshow": {
     "slide_type": "slide"
    }
   },
   "source": [
    "## About Me\n",
    "* Master of Information Systems - University of the Philippines\n",
    "* Bachelor of Science in Computer Science - University of the Philippines\n",
    "* Python Experience (since 2013):\n",
    "    * Geoprocessing\n",
    "    * Web Scraping\n",
    "    * Scientific Computing\n",
    "    * App Development\n",
    "    * Data Science"
   ]
  },
  {
   "cell_type": "markdown",
   "metadata": {
    "slideshow": {
     "slide_type": "slide"
    }
   },
   "source": [
    "## Outline\n",
    "* Python Background\n",
    "* Jupyter Notebook Overview\n",
    "* Python Language Essentials"
   ]
  },
  {
   "cell_type": "markdown",
   "metadata": {
    "slideshow": {
     "slide_type": "slide"
    }
   },
   "source": [
    "## Background\n",
    "* Created by Guido van Rossum\n",
    "* Open-source, general purpose, high-level\n",
    "* Procedural, functional, object-oriented\n",
    "* Interpreted language\n",
    "* Two versions: 2.7 and 3.x\n",
    "\n",
    "<div class=\"alert alert-block alert-info\">\n",
    "<b>DID YOU KNOW?</b>   The Python language is named after Monty Python, a comedy group from the 70s.\n",
    "</div>"
   ]
  },
  {
   "cell_type": "markdown",
   "metadata": {
    "slideshow": {
     "slide_type": "slide"
    }
   },
   "source": [
    "## Jupyter Notebook"
   ]
  },
  {
   "cell_type": "markdown",
   "metadata": {
    "slideshow": {
     "slide_type": "subslide"
    }
   },
   "source": [
    "## Jupyter Notebook Interface: Dashboard\n",
    "<img src=\"images/nb-dashboard.png\" width=\"650\">"
   ]
  },
  {
   "cell_type": "markdown",
   "metadata": {
    "slideshow": {
     "slide_type": "subslide"
    }
   },
   "source": [
    "## Jupyter Notebook Interface: New Notebook\n",
    "<img src=\"images/nb-dashboard-new.png\" width=\"650\">"
   ]
  },
  {
   "cell_type": "markdown",
   "metadata": {
    "slideshow": {
     "slide_type": "subslide"
    }
   },
   "source": [
    "## Jupyter Notebook Interface: Notebook Interface\n",
    "<img src=\"images/nb-blank.png\" width=\"650\">"
   ]
  },
  {
   "cell_type": "markdown",
   "metadata": {
    "slideshow": {
     "slide_type": "subslide"
    }
   },
   "source": [
    "## Jupyter Notebook Interface: Cell-type\n",
    "<img src=\"images/nb-celltype.png\" width=\"650\">"
   ]
  },
  {
   "cell_type": "markdown",
   "metadata": {
    "slideshow": {
     "slide_type": "subslide"
    }
   },
   "source": [
    "## Jupyter Notebook Interface: Running Cell\n",
    "<img src=\"images/nb-run.png\" width=\"650\">"
   ]
  },
  {
   "cell_type": "markdown",
   "metadata": {
    "slideshow": {
     "slide_type": "slide"
    }
   },
   "source": [
    "# Let's code!"
   ]
  },
  {
   "cell_type": "markdown",
   "metadata": {
    "slideshow": {
     "slide_type": "subslide"
    }
   },
   "source": [
    "## Syntax: Line Endings\n",
    "* No need for semi-colon at the end\n",
    "    * In C:\n",
    "    ``` c\n",
    "        printf(\"Hello world!\");\n",
    "    ```\n",
    "    * In Python:\n",
    "    ``` python\n",
    "        print(\"Hello world!\")\n",
    "    ```\n"
   ]
  },
  {
   "cell_type": "code",
   "execution_count": 13,
   "metadata": {
    "slideshow": {
     "slide_type": "subslide"
    }
   },
   "outputs": [
    {
     "name": "stdout",
     "output_type": "stream",
     "text": [
      "Hello world!\n"
     ]
    }
   ],
   "source": [
    "print(\"Hello world!\")"
   ]
  },
  {
   "cell_type": "markdown",
   "metadata": {
    "slideshow": {
     "slide_type": "subslide"
    }
   },
   "source": [
    "## Syntax: Basic Operators\n",
    "\n",
    "<table style=\"font-size:30px\">\n",
    "    <tr>\n",
    "        <th>Operator</th>\n",
    "        <th>Operation (Ordered by Precedence)</th>\n",
    "    </tr>\n",
    "    <tr>\n",
    "        <td>'(' and ')'</td>\n",
    "        <td>For specifying Precedence</td>\n",
    "    </tr>\n",
    "    <tr>\n",
    "        <td>**</td>\n",
    "        <td>Exponent</td>\n",
    "    </tr>\n",
    "    <tr>\n",
    "        <td>*</td>\n",
    "        <td>Multiplication</td>\n",
    "    </tr>\n",
    "    <tr>\n",
    "        <td>/</td>\n",
    "        <td>Division</td>\n",
    "    </tr>\n",
    "     <tr>\n",
    "        <td>//</td>\n",
    "        <td>Floor Division</td>\n",
    "    </tr>\n",
    "    <tr>\n",
    "        <td>%</td>\n",
    "        <td>Modulo</td>\n",
    "    </tr>\n",
    "    <tr>\n",
    "        <td>+</td>\n",
    "        <td>Addition</td>\n",
    "    </tr>\n",
    "    <tr>\n",
    "        <td>-</td>\n",
    "        <td>Subtraction</td>\n",
    "    </tr>\n",
    "</table>\n"
   ]
  },
  {
   "cell_type": "code",
   "execution_count": 19,
   "metadata": {
    "slideshow": {
     "slide_type": "subslide"
    }
   },
   "outputs": [
    {
     "name": "stdout",
     "output_type": "stream",
     "text": [
      "1\n"
     ]
    }
   ],
   "source": [
    "# insert code here\n",
    "print(7%3) "
   ]
  },
  {
   "cell_type": "markdown",
   "metadata": {
    "slideshow": {
     "slide_type": "subslide"
    }
   },
   "source": [
    "## Syntax: Variables\n",
    "* Naming Rules\n",
    "    * Case-sensitive\n",
    "    * Can contain letters, numbers, and underscores\n",
    "    * Cannot start with a number\n",
    "    * e.g. myVar, my_var, _myvar, number1"
   ]
  },
  {
   "cell_type": "markdown",
   "metadata": {
    "slideshow": {
     "slide_type": "subslide"
    }
   },
   "source": [
    "## Syntax: Variables\n",
    "* Variables are <i> dynamically </i> typed\n",
    "    * They don't have a pre-defined type\n",
    "        * In C:\n",
    "    ``` c\n",
    "        int num1 = 75;\n",
    "        float pi = 3.14159;\n",
    "    ```\n",
    "        * In Python:\n",
    "    ``` python\n",
    "        num1 = 75\n",
    "        pi = 3.14159\n",
    "    ```\n"
   ]
  },
  {
   "cell_type": "code",
   "execution_count": 27,
   "metadata": {
    "slideshow": {
     "slide_type": "subslide"
    }
   },
   "outputs": [
    {
     "name": "stdout",
     "output_type": "stream",
     "text": [
      "My age is 1\n"
     ]
    }
   ],
   "source": [
    "# insert code here\n",
    "age = 1\n",
    "mystr = \"My age is \" + str(age)\n",
    "print(mystr)"
   ]
  },
  {
   "cell_type": "markdown",
   "metadata": {
    "slideshow": {
     "slide_type": "subslide"
    }
   },
   "source": [
    "## Syntax: Basic Input & Output\n",
    "\n",
    "* `input(prompt)`\n",
    "    * Prompts user for keyboard input\n",
    "    * Any input from the keyboard before new line (Enter Key) is returned as a string \n",
    "* `print(*objects, sep=' ', end='\\n', file=sys.stdout, flush=False)`\n",
    "    * first converts arbitrary number of objects to strings that are joined by `sep` and ends in `end`\n",
    "    * concatinated string is printed in `file` "
   ]
  },
  {
   "cell_type": "code",
   "execution_count": 8,
   "metadata": {
    "slideshow": {
     "slide_type": "subslide"
    }
   },
   "outputs": [
    {
     "data": {
      "text/plain": [
       "\"\\na = 1\\nb = 2\\nc = a + b\\n# print(*objects, sep=' ', end='\\n', file=sys.stdout, flush=False)\\n# print(a,b,c,sep = ',',end='\\t') #this will not be evaluated\\nprint(a,b,c,sep = ',')  \\n\""
      ]
     },
     "execution_count": 8,
     "metadata": {},
     "output_type": "execute_result"
    }
   ],
   "source": [
    "\"\"\"\n",
    "a = 1\n",
    "b = 2\n",
    "c = a + b\n",
    "# print(*objects, sep=' ', end='\\n', file=sys.stdout, flush=False)\n",
    "# print(a,b,c,sep = ',',end='\\t') #this will not be evaluated\n",
    "print(a,b,c,sep = ',')  \n",
    "\"\"\"\n"
   ]
  },
  {
   "cell_type": "markdown",
   "metadata": {
    "slideshow": {
     "slide_type": "subslide"
    }
   },
   "source": [
    "## Syntax: Comments\n",
    "* `#<string>` - Single line comments \n",
    "* `\"\"\"<string>\"\"\"` - Multi-line comments\n",
    "\n",
    "``` python\n",
    "    num1 = 75     # This is a comment.\n",
    "    pi = 3.14159\n",
    "\n",
    "    # This is also a comment.\n",
    "    \"\"\"This is a docstring. You can place this \n",
    "    before a new function or class to explain \n",
    "    what it does.\"\"\" \n",
    "\n",
    "```"
   ]
  },
  {
   "cell_type": "markdown",
   "metadata": {
    "slideshow": {
     "slide_type": "subslide"
    }
   },
   "source": [
    "## Syntax: Nesting\n",
    "* Use indentations instead of braces\n",
    "    * In C:\n",
    "    ``` c\n",
    "        if(condition){\n",
    "            //do stuff \n",
    "            //here\n",
    "        }\n",
    "    ```\n",
    "    * In Python:\n",
    "    ``` python\n",
    "         if condition:\n",
    "            #do stuff \n",
    "            #here\n",
    "    ```\n"
   ]
  },
  {
   "cell_type": "code",
   "execution_count": 13,
   "metadata": {
    "slideshow": {
     "slide_type": "subslide"
    }
   },
   "outputs": [
    {
     "name": "stdout",
     "output_type": "stream",
     "text": [
      "You are in your late twenties\n"
     ]
    }
   ],
   "source": [
    "# insert code here\n",
    "age = 19\n",
    "if age <= 26:\n",
    "    print(\"You are in your late twenties\")\n",
    "else:\n",
    "    print(\"You are not in your late twenties\") "
   ]
  },
  {
   "cell_type": "markdown",
   "metadata": {
    "slideshow": {
     "slide_type": "slide"
    }
   },
   "source": [
    "## Reference Semantics\n",
    "* If we do a = b\n",
    "    * This makes a <b> reference </b> the object that b references\n",
    "    * Assignment creates references, <b> not copies </b>\n",
    "    \n",
    "\n"
   ]
  },
  {
   "cell_type": "code",
   "execution_count": 16,
   "metadata": {
    "slideshow": {
     "slide_type": "subslide"
    }
   },
   "outputs": [
    {
     "name": "stdout",
     "output_type": "stream",
     "text": [
      "[1, 2, 3, 4, 5, 6, 7]\n",
      "[1, 2, 3, 4, 5, 6, 7]\n"
     ]
    }
   ],
   "source": [
    "# insert code here\n",
    "a = [1, 2, 3, 4, 5]\n",
    "a.append(6)\n",
    "b = a # b is not a copy of a, it references the object in a\n",
    "b.append(7)\n",
    "print(a)\n",
    "print(b)\n",
    "  \n",
    "# c\n",
    "a = 1\n",
    "b = a\n",
    "b = 2\n",
    "print(a) # 1\n",
    "print(b) # 2\n",
    "\n"
   ]
  },
  {
   "cell_type": "markdown",
   "metadata": {
    "slideshow": {
     "slide_type": "subslide"
    }
   },
   "source": [
    "# Simple Python Script Template\n",
    "`main.py`\n",
    "``` python \n",
    "\n",
    "#!/usr/bin/env python3\n",
    "\n",
    "def main():\n",
    "    \"\"\" Main entry point of the app \"\"\"\n",
    "    print(\"Hello World\")\n",
    "\n",
    "if __name__ == \"__main__\":\n",
    "    # This is executed when run from the command line \n",
    "    main()\n",
    "```"
   ]
  },
  {
   "cell_type": "code",
   "execution_count": 17,
   "metadata": {
    "slideshow": {
     "slide_type": "subslide"
    }
   },
   "outputs": [
    {
     "name": "stdout",
     "output_type": "stream",
     "text": [
      "Hello EIT!\n"
     ]
    }
   ],
   "source": [
    "#!/usr/bin/env python3\n",
    "\n",
    "def main():\n",
    "    \"\"\" Main entry point of the app \"\"\"\n",
    "    print(\"Hello EIT!\")\n",
    "\n",
    "if __name__ == \"__main__\":\n",
    "    # This is executed when run from the command line\n",
    "    main()"
   ]
  },
  {
   "cell_type": "code",
   "execution_count": 1,
   "metadata": {
    "slideshow": {
     "slide_type": "subslide"
    }
   },
   "outputs": [],
   "source": [
    "#!/usr/bin/env python3\n",
    "\n",
    "def main():\n",
    "    \"\"\" Write a program that takes in a name and age, then output age in 5 years \"\"\"\n",
    "    \n",
    "\n",
    "if __name__ == \"__main__\":\n",
    "    # This is executed when run from the command line\n",
    "    main()"
   ]
  },
  {
   "cell_type": "code",
   "execution_count": null,
   "metadata": {},
   "outputs": [],
   "source": []
  }
 ],
 "metadata": {
  "celltoolbar": "Slideshow",
  "kernelspec": {
   "display_name": "Python 3",
   "language": "python",
   "name": "python3"
  },
  "language_info": {
   "codemirror_mode": {
    "name": "ipython",
    "version": 3
   },
   "file_extension": ".py",
   "mimetype": "text/x-python",
   "name": "python",
   "nbconvert_exporter": "python",
   "pygments_lexer": "ipython3",
   "version": "3.7.2"
  }
 },
 "nbformat": 4,
 "nbformat_minor": 2
}
