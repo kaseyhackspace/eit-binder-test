{
  "nbformat": 4,
  "nbformat_minor": 0,
  "metadata": {
    "colab": {
      "name": "Sample Notebook.ipynb",
      "version": "0.3.2",
      "provenance": []
    },
    "kernelspec": {
      "name": "python3",
      "display_name": "Python 3"
    }
  },
  "cells": [
    {
      "cell_type": "code",
      "metadata": {
        "id": "p9jWap9_8a42",
        "colab_type": "code",
        "colab": {}
      },
      "source": [
        "# Asks user for number, this opens up a prompt where the user can type in the number\n",
        "my_input = input(\"Enter number here:\")"
      ],
      "execution_count": 0,
      "outputs": []
    },
    {
      "cell_type": "code",
      "metadata": {
        "id": "vn1K4zss87I3",
        "colab_type": "code",
        "colab": {
          "base_uri": "https://localhost:8080/",
          "height": 34
        },
        "outputId": "e4acf5a3-6197-4386-870e-d14e9796b5df"
      },
      "source": [
        "# This prints out the data type of the input we just made, it's a string, so we need to convert it into an integer to do some math calculations\n",
        "print(type(my_input))"
      ],
      "execution_count": 12,
      "outputs": [
        {
          "output_type": "stream",
          "text": [
            "<class 'str'>\n"
          ],
          "name": "stdout"
        }
      ]
    },
    {
      "cell_type": "code",
      "metadata": {
        "id": "GcAM1xu79Rhj",
        "colab_type": "code",
        "colab": {}
      },
      "source": [
        "# We convert the input into a string by using the int() function\n",
        "my_input_integer = int(my_input)"
      ],
      "execution_count": 0,
      "outputs": []
    },
    {
      "cell_type": "code",
      "metadata": {
        "id": "2-fqbhmi9pVD",
        "colab_type": "code",
        "colab": {
          "base_uri": "https://localhost:8080/",
          "height": 34
        },
        "outputId": "344c6a94-5614-4d57-a300-f6900f00aa19"
      },
      "source": [
        "# my_result will hold the value of my_input_integer + 10\n",
        "my_result = my_input_integer + 10\n",
        "# we print out the my_result variable to show the result of the computation\n",
        "print(my_result)"
      ],
      "execution_count": 13,
      "outputs": [
        {
          "output_type": "stream",
          "text": [
            "20\n"
          ],
          "name": "stdout"
        }
      ]
    }
  ]
}