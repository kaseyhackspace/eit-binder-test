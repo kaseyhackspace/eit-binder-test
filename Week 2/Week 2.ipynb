{
 "cells": [
  {
   "cell_type": "markdown",
   "metadata": {
    "slideshow": {
     "slide_type": "slide"
    }
   },
   "source": [
    "# Data Types in Python\n",
    "\n",
    "#### Mr. Kasey P. Martin, MIS"
   ]
  },
  {
   "cell_type": "markdown",
   "metadata": {
    "slideshow": {
     "slide_type": "slide"
    }
   },
   "source": [
    "## Data Types\n",
    "* Python has five (5) standard data types:\n",
    "    * Numbers\n",
    "    * String\n",
    "    * List\n",
    "    * Tuple\n",
    "    * Dictionary"
   ]
  },
  {
   "cell_type": "markdown",
   "metadata": {
    "slideshow": {
     "slide_type": "slide"
    }
   },
   "source": [
    "### Numbers\n",
    "* Store numeric values\n",
    "    * int (signed integers)\n",
    "    ``` python\n",
    "        int_a = -7528\n",
    "        int_b = 132\n",
    "    ```\n",
    "    * float (floating point real values)\n",
    "    ``` python\n",
    "        float_a = -75.28\n",
    "        float_b = 13.2e+7\n",
    "    ```\n",
    "    * complex (complex numbers)\n",
    "    ``` python\n",
    "        #j is the imaginary unit\n",
    "        complex_a = -75.28j \n",
    "        complex_b = 13.2e-10j\n",
    "    ```"
   ]
  },
  {
   "cell_type": "code",
   "execution_count": 2,
   "metadata": {
    "slideshow": {
     "slide_type": "subslide"
    }
   },
   "outputs": [
    {
     "name": "stdout",
     "output_type": "stream",
     "text": [
      "Enter an integer here ->10+76j\n",
      "<class 'complex'>\n"
     ]
    }
   ],
   "source": [
    "my_complex = complex(input(\"Enter an integer here ->\"))\n",
    "print(type(my_complex))\n",
    "\n",
    "# functions we can use to convert to numbers from string\n",
    "# int, float, complex\n"
   ]
  },
  {
   "cell_type": "markdown",
   "metadata": {
    "slideshow": {
     "slide_type": "slide"
    }
   },
   "source": [
    "### Strings\n",
    "* Contiguous set of characters enclosed by either single or double quotes\n",
    "* Here are some operations you can use on strings: "
   ]
  },
  {
   "cell_type": "markdown",
   "metadata": {
    "slideshow": {
     "slide_type": "subslide"
    }
   },
   "source": [
    "* Print the length of a string"
   ]
  },
  {
   "cell_type": "code",
   "execution_count": 11,
   "metadata": {
    "slideshow": {
     "slide_type": "-"
    }
   },
   "outputs": [
    {
     "name": "stdout",
     "output_type": "stream",
     "text": [
      "\"Python\" is fun\n",
      "15\n"
     ]
    }
   ],
   "source": [
    "mystr = \"\\\"Python\\\" is fun\"\n",
    "print(mystr)\n",
    "print(len(mystr))"
   ]
  },
  {
   "cell_type": "markdown",
   "metadata": {
    "slideshow": {
     "slide_type": "subslide"
    }
   },
   "source": [
    "* Print the first character of a string"
   ]
  },
  {
   "cell_type": "code",
   "execution_count": 15,
   "metadata": {
    "slideshow": {
     "slide_type": "-"
    }
   },
   "outputs": [
    {
     "name": "stdout",
     "output_type": "stream",
     "text": [
      "P\n"
     ]
    }
   ],
   "source": [
    "mystr = \"Python is fun!\"\n",
    "print(mystr[0])"
   ]
  },
  {
   "cell_type": "markdown",
   "metadata": {
    "slideshow": {
     "slide_type": "subslide"
    }
   },
   "source": [
    "* Print the last character of a string\n",
    "\n",
    "<div class=\"alert alert-block alert-info\">\n",
    "<b>INDEXING</b>   A negative index means you start counting from the end of the string. -1 represents the index of the last character.\n",
    "</div>"
   ]
  },
  {
   "cell_type": "code",
   "execution_count": 17,
   "metadata": {
    "slideshow": {
     "slide_type": "-"
    }
   },
   "outputs": [
    {
     "name": "stdout",
     "output_type": "stream",
     "text": [
      "!\n"
     ]
    }
   ],
   "source": [
    "my_index = -1\n",
    "str = \"Python is fun!\"\n",
    "print(str[my_index]) "
   ]
  },
  {
   "cell_type": "markdown",
   "metadata": {
    "slideshow": {
     "slide_type": "subslide"
    }
   },
   "source": [
    "* Print the substring of a string\n",
    "    * string[start:end] - Get all characters from index start to end-1\n",
    "    * string[:end] - Get all characters from the beginning of the string to end-1\n",
    "    * string[start:] - Get all characters from index start to the end of the string"
   ]
  },
  {
   "cell_type": "code",
   "execution_count": 30,
   "metadata": {
    "slideshow": {
     "slide_type": "subslide"
    }
   },
   "outputs": [
    {
     "name": "stdout",
     "output_type": "stream",
     "text": [
      " fun!\n"
     ]
    }
   ],
   "source": [
    "#Let's print the 2nd to 5th characters; string[start:end] end - 1\n",
    "mystr = \"Python is fun!\"\n",
    "print(mystr[-5:])"
   ]
  },
  {
   "cell_type": "code",
   "execution_count": 38,
   "metadata": {
    "slideshow": {
     "slide_type": "subslide"
    }
   },
   "outputs": [
    {
     "name": "stdout",
     "output_type": "stream",
     "text": [
      "Python\n"
     ]
    }
   ],
   "source": [
    "#Let's print the starting character up to the 6th character; string[:end]\n",
    "start = 0\n",
    "end = 6\n",
    "str = \"Python is fun!\"\n",
    "my_substring = str[start:end]\n",
    "print(my_substring)"
   ]
  },
  {
   "cell_type": "code",
   "execution_count": 6,
   "metadata": {
    "slideshow": {
     "slide_type": "subslide"
    }
   },
   "outputs": [
    {
     "name": "stdout",
     "output_type": "stream",
     "text": [
      "thon is fun!\n"
     ]
    }
   ],
   "source": [
    "#Let's print the 3rd character up to the last; string[start:]\n",
    "str = \"Python is fun!\"\n",
    "print(str[2:])"
   ]
  },
  {
   "cell_type": "markdown",
   "metadata": {
    "slideshow": {
     "slide_type": "subslide"
    }
   },
   "source": [
    "* Print the string twice"
   ]
  },
  {
   "cell_type": "code",
   "execution_count": 43,
   "metadata": {
    "slideshow": {
     "slide_type": "-"
    }
   },
   "outputs": [
    {
     "name": "stdout",
     "output_type": "stream",
     "text": [
      "Python is fun!Python is fun!Python is fun!Python is fun!Python is fun!Python is fun!Python is fun!Python is fun!Python is fun!Python is fun!\n"
     ]
    }
   ],
   "source": [
    "str = \"Python is fun!\"\n",
    "new_str = str * 10\n",
    "print(new_str)"
   ]
  },
  {
   "cell_type": "markdown",
   "metadata": {
    "slideshow": {
     "slide_type": "subslide"
    }
   },
   "source": [
    "* Concatenate the string"
   ]
  },
  {
   "cell_type": "code",
   "execution_count": 50,
   "metadata": {
    "slideshow": {
     "slide_type": "-"
    }
   },
   "outputs": [
    {
     "name": "stdout",
     "output_type": "stream",
     "text": [
      "Python is fun!\n",
      "Python is fun!\n",
      "\n"
     ]
    }
   ],
   "source": [
    "str = \"Python is fun!\"\n",
    "new_str = (str + '\\n')*2\n",
    "print(new_str)"
   ]
  },
  {
   "cell_type": "markdown",
   "metadata": {
    "slideshow": {
     "slide_type": "slide"
    }
   },
   "source": [
    "### Lists\n",
    "* Contains items separated by commas and enclosed with square brackets\n",
    "* Similar to arrays in C or C++. But unlike arrays in these languages, you can store <i> different </i> data types in lists!\n",
    "* Lists are mutable containers which means you can change its contents\n",
    "* Here are some operations you can use on lists: "
   ]
  },
  {
   "cell_type": "markdown",
   "metadata": {
    "slideshow": {
     "slide_type": "subslide"
    }
   },
   "source": [
    "* Printing out the list"
   ]
  },
  {
   "cell_type": "code",
   "execution_count": 57,
   "metadata": {
    "slideshow": {
     "slide_type": "-"
    }
   },
   "outputs": [
    {
     "name": "stdout",
     "output_type": "stream",
     "text": [
      "['John', 21, 'BS Computer Science', 90.5]\n"
     ]
    }
   ],
   "source": [
    "mylist = [\"John\", 21, \"BS Computer Science\", 90.5]\n",
    "print(mylist)  "
   ]
  },
  {
   "cell_type": "markdown",
   "metadata": {
    "slideshow": {
     "slide_type": "subslide"
    }
   },
   "source": [
    "* Print the length of a list"
   ]
  },
  {
   "cell_type": "code",
   "execution_count": 59,
   "metadata": {
    "slideshow": {
     "slide_type": "-"
    }
   },
   "outputs": [
    {
     "name": "stdout",
     "output_type": "stream",
     "text": [
      "4\n"
     ]
    }
   ],
   "source": [
    "mylist = [\"John\", 21, \"BS Computer Science\", 90.5]\n",
    "print(len(mylist))"
   ]
  },
  {
   "cell_type": "markdown",
   "metadata": {
    "slideshow": {
     "slide_type": "subslide"
    }
   },
   "source": [
    "* Print the first and last element of a list\n",
    "\n",
    "<div class=\"alert alert-block alert-info\">\n",
    "<b>INDEXING</b>  Just like in strings, a negative index means you start counting from the end of the list. -1 represents the index of the last element.\n",
    "</div>"
   ]
  },
  {
   "cell_type": "code",
   "execution_count": 66,
   "metadata": {
    "slideshow": {
     "slide_type": "-"
    }
   },
   "outputs": [
    {
     "name": "stdout",
     "output_type": "stream",
     "text": [
      "First element is: John\n",
      "90.5\n",
      "[[1, 2], [2, 1], [1, 2], [2, 1]]\n"
     ]
    }
   ],
   "source": [
    "list = [\"John\", 21, \"BS Computer Science\", 90.5]\n",
    "print(\"First element is: \" + list[0])\n",
    "print(list[-1]) #this works\n",
    "#but not this: print(\"Last element is: \" + list[-1]) \n",
    "\n",
    "matrix = [[1,2],[2,1]]  \n",
    "print(matrix*2)"
   ]
  },
  {
   "cell_type": "markdown",
   "metadata": {
    "slideshow": {
     "slide_type": "subslide"
    }
   },
   "source": [
    "* Printing out the sublist of a list is similar to strings"
   ]
  },
  {
   "cell_type": "code",
   "execution_count": 64,
   "metadata": {
    "slideshow": {
     "slide_type": "-"
    }
   },
   "outputs": [
    {
     "name": "stdout",
     "output_type": "stream",
     "text": [
      "[21, 'BS Computer Science']\n",
      "[21, 'BS Computer Science', 90.5]\n",
      "['John', 21, 'BS Computer Science']\n"
     ]
    }
   ],
   "source": [
    "list = [\"John\", 21, \"BS Computer Science\", 90.5]\n",
    "print(list[1:3])\n",
    "print(list[1:])\n",
    "print(list[:3])"
   ]
  },
  {
   "cell_type": "markdown",
   "metadata": {
    "slideshow": {
     "slide_type": "subslide"
    }
   },
   "source": [
    "* Append an item at the end of the list"
   ]
  },
  {
   "cell_type": "code",
   "execution_count": 67,
   "metadata": {
    "slideshow": {
     "slide_type": "-"
    }
   },
   "outputs": [
    {
     "name": "stdout",
     "output_type": "stream",
     "text": [
      "['John', 21, 'BS Computer Science', 90.5, 'Pass']\n",
      "['John', 21, 'BS Computer Science', 90.5, 'Pass', -1]\n"
     ]
    }
   ],
   "source": [
    "list = [\"John\", 21, \"BS Computer Science\", 90.5]\n",
    "list.append(\"Pass\")\n",
    "print(list)\n",
    "list.append(-1)\n",
    "print(list)"
   ]
  },
  {
   "cell_type": "markdown",
   "metadata": {
    "slideshow": {
     "slide_type": "subslide"
    }
   },
   "source": [
    "* Insert an element x at index i\n",
    "* list.insert[i,x]"
   ]
  },
  {
   "cell_type": "code",
   "execution_count": 73,
   "metadata": {
    "slideshow": {
     "slide_type": "-"
    }
   },
   "outputs": [
    {
     "name": "stdout",
     "output_type": "stream",
     "text": [
      "['Pass', 'John', 21, 'BS Computer Science', 90.5]\n"
     ]
    }
   ],
   "source": [
    "list = [\"John\", 21, \"BS Computer Science\", 90.5]\n",
    "list.insert(0, \"Pass\")\n",
    "print(list)"
   ]
  },
  {
   "cell_type": "markdown",
   "metadata": {
    "slideshow": {
     "slide_type": "subslide"
    }
   },
   "source": [
    "* Remove an element x from the list if it exists"
   ]
  },
  {
   "cell_type": "code",
   "execution_count": 76,
   "metadata": {
    "slideshow": {
     "slide_type": "-"
    }
   },
   "outputs": [
    {
     "name": "stdout",
     "output_type": "stream",
     "text": [
      "['John', 21, 'BS Computer Science', 90.5]\n"
     ]
    }
   ],
   "source": [
    "list = [\"John\", 21, \"BS Computer Science\", \"Pass\", 90.5]\n",
    "list.remove(\"Pass\")\n",
    "print(list)"
   ]
  },
  {
   "cell_type": "markdown",
   "metadata": {
    "slideshow": {
     "slide_type": "subslide"
    }
   },
   "source": [
    "* Remove an element from index i\n",
    "* If no index in specified, it will remove the last item from the list"
   ]
  },
  {
   "cell_type": "code",
   "execution_count": 78,
   "metadata": {
    "slideshow": {
     "slide_type": "-"
    }
   },
   "outputs": [
    {
     "name": "stdout",
     "output_type": "stream",
     "text": [
      "['John', 21, 90.5]\n"
     ]
    }
   ],
   "source": [
    "list = [\"John\", 21, \"BS Computer Science\", 90.5]\n",
    "i = 2\n",
    "list.pop(i)\n",
    "print(list)"
   ]
  },
  {
   "cell_type": "markdown",
   "metadata": {
    "slideshow": {
     "slide_type": "slide"
    }
   },
   "source": [
    "### Tuples\n",
    "* Contains items separated by commas and enclosed with parentheses\n",
    "* Similar to lists where you can store <i> different </i> data types\n",
    "* But unlike lists, tuples are immutable containers (contents cannot be changed)\n",
    "* Here are some operations you can use on tuples: "
   ]
  },
  {
   "cell_type": "markdown",
   "metadata": {
    "slideshow": {
     "slide_type": "subslide"
    }
   },
   "source": [
    "* Print the length of a tuple"
   ]
  },
  {
   "cell_type": "code",
   "execution_count": 82,
   "metadata": {
    "slideshow": {
     "slide_type": "-"
    }
   },
   "outputs": [
    {
     "name": "stdout",
     "output_type": "stream",
     "text": [
      "4\n"
     ]
    }
   ],
   "source": [
    "mtuple = (\"Philippines\", 300000, \"peso\", \"Asia\") #country, land area (km^2), currency, continent\n",
    "print(len(mtuple))"
   ]
  },
  {
   "cell_type": "markdown",
   "metadata": {
    "slideshow": {
     "slide_type": "subslide"
    }
   },
   "source": [
    "* Print the nth element of a tuple "
   ]
  },
  {
   "cell_type": "code",
   "execution_count": 1,
   "metadata": {
    "slideshow": {
     "slide_type": "-"
    }
   },
   "outputs": [
    {
     "name": "stdout",
     "output_type": "stream",
     "text": [
      "Philippines\n",
      "Asia\n"
     ]
    }
   ],
   "source": [
    "mtuple = (\"Philippines\", 300000, \"peso\", \"Asia\") #country, land area (km^2), currency, continent\n",
    "print(mtuple[0])\n",
    "print(mtuple[-1])"
   ]
  },
  {
   "cell_type": "markdown",
   "metadata": {
    "slideshow": {
     "slide_type": "subslide"
    }
   },
   "source": [
    "* Print the subtuple of a tuple \n",
    "* tuple(start:end)"
   ]
  },
  {
   "cell_type": "code",
   "execution_count": 83,
   "metadata": {
    "slideshow": {
     "slide_type": "-"
    }
   },
   "outputs": [
    {
     "name": "stdout",
     "output_type": "stream",
     "text": [
      "('Philippines', 300000)\n",
      "(300000, 'peso', 'Asia')\n",
      "('Philippines', 300000, 'peso')\n"
     ]
    }
   ],
   "source": [
    "mtuple = (\"Philippines\", 300000, \"peso\", \"Asia\") #country, land area (km^2), currency, continent\n",
    "print(mtuple[0:2])\n",
    "print(mtuple[1:])\n",
    "print(mtuple[:3])"
   ]
  },
  {
   "cell_type": "markdown",
   "metadata": {
    "slideshow": {
     "slide_type": "subslide"
    }
   },
   "source": [
    "* Concatenate a tuple "
   ]
  },
  {
   "cell_type": "code",
   "execution_count": 85,
   "metadata": {
    "slideshow": {
     "slide_type": "-"
    }
   },
   "outputs": [
    {
     "name": "stdout",
     "output_type": "stream",
     "text": [
      "('Philippines', 300000, 'peso', 'Asia', 109000000, 'Filipino')\n"
     ]
    }
   ],
   "source": [
    "mtuple = (\"Philippines\", 300000, \"peso\", \"Asia\") #country, land area (km^2), currency, continent\n",
    "tuple_1 = (109000000, \"Filipino\") #population, major language\n",
    "print(mtuple + tuple_1)"
   ]
  },
  {
   "cell_type": "markdown",
   "metadata": {
    "slideshow": {
     "slide_type": "slide"
    }
   },
   "source": [
    "### Dictionary\n",
    "* Consists of key-value pairs where keys are required to be unique\n",
    "* Enclosed by curly braces {}\n",
    "* Here are some operations you can use on dictionaries: "
   ]
  },
  {
   "cell_type": "markdown",
   "metadata": {
    "slideshow": {
     "slide_type": "subslide"
    }
   },
   "source": [
    "* Print the length of a dictionary"
   ]
  },
  {
   "cell_type": "code",
   "execution_count": 88,
   "metadata": {
    "slideshow": {
     "slide_type": "-"
    }
   },
   "outputs": [
    {
     "name": "stdout",
     "output_type": "stream",
     "text": [
      "4\n",
      "{'country': 'Philippines', 'area': 300000, 'currency': 'peso', 'continent': 'Asia'}\n"
     ]
    }
   ],
   "source": [
    "my_dictionary = {\n",
    "    \"country\":\"Philippines\", \n",
    "    \"area\":300000, \n",
    "    \"currency\":\"peso\", \n",
    "    \"continent\":\"Asia\"}\n",
    "print(len(my_dictionary))\n",
    "print(my_dictionary)"
   ]
  },
  {
   "cell_type": "markdown",
   "metadata": {
    "slideshow": {
     "slide_type": "subslide"
    }
   },
   "source": [
    "* Print the keys of a dictionary"
   ]
  },
  {
   "cell_type": "code",
   "execution_count": 91,
   "metadata": {
    "slideshow": {
     "slide_type": "-"
    }
   },
   "outputs": [
    {
     "name": "stdout",
     "output_type": "stream",
     "text": [
      "dict_keys(['country', 'area', 'currency', 'continent'])\n",
      "Philippines\n"
     ]
    }
   ],
   "source": [
    "dictionary = {\"country\":\"Philippines\", \"area\":300000, \"currency\":\"peso\", \"continent\":\"Asia\"}\n",
    "print(dictionary.keys())\n",
    "\n",
    "print(dictionary['country'])\n"
   ]
  },
  {
   "cell_type": "markdown",
   "metadata": {
    "slideshow": {
     "slide_type": "subslide"
    }
   },
   "source": [
    "* Print the values of a dictionary"
   ]
  },
  {
   "cell_type": "code",
   "execution_count": 92,
   "metadata": {
    "slideshow": {
     "slide_type": "-"
    }
   },
   "outputs": [
    {
     "name": "stdout",
     "output_type": "stream",
     "text": [
      "dict_values(['Philippines', 300000, 'peso', 'Asia'])\n"
     ]
    }
   ],
   "source": [
    "dictionary = {\"country\":\"Philippines\", \"area\":300000, \"currency\":\"peso\", \"continent\":\"Asia\"}\n",
    "print(dictionary.values())"
   ]
  },
  {
   "cell_type": "markdown",
   "metadata": {
    "slideshow": {
     "slide_type": "subslide"
    }
   },
   "source": [
    "* Add a key-value pair to a dictionary"
   ]
  },
  {
   "cell_type": "code",
   "execution_count": 95,
   "metadata": {
    "slideshow": {
     "slide_type": "-"
    }
   },
   "outputs": [
    {
     "name": "stdout",
     "output_type": "stream",
     "text": [
      "{'country': 'Philippines', 'area': 300000, 'currency': 'peso'}\n",
      "{'country': 'Philippines', 'area': 300000, 'currency': 'peso', 'continent': 'Asia'}\n",
      "{'country': 'Australia', 'area': 300000, 'currency': 'peso', 'continent': 'Asia'}\n",
      "{'country': 'Australia', 'area': 300000, 'currency': 'peso', 'continent': 'Asia', 'coordinates': {'lat': 12.8797, 'long': 121.774}}\n"
     ]
    }
   ],
   "source": [
    "dictionary = {\"country\":\"Philippines\", \"area\":300000, \"currency\":\"peso\"}\n",
    "print(dictionary)\n",
    "\n",
    "dictionary[\"continent\"] = \"Asia\"\n",
    "print(dictionary)\n",
    "dictionary[\"country\"] = \"Australia\"\n",
    "print(dictionary)\n",
    "\n",
    "lat = 12.8797\n",
    "long = 121.7740\n",
    "coordinates = {\n",
    "    'lat': lat,\n",
    "    'long': long\n",
    "}\n",
    "\n",
    "dictionary['coordinates'] = coordinates\n",
    "print(dictionary)"
   ]
  },
  {
   "cell_type": "markdown",
   "metadata": {
    "slideshow": {
     "slide_type": "subslide"
    }
   },
   "source": [
    "* Delete a key-value pair from a dictionary"
   ]
  },
  {
   "cell_type": "code",
   "execution_count": 107,
   "metadata": {
    "slideshow": {
     "slide_type": "-"
    }
   },
   "outputs": [
    {
     "name": "stdout",
     "output_type": "stream",
     "text": [
      "Jane\n",
      "5\n"
     ]
    }
   ],
   "source": [
    "list_of_dictionaries = [\n",
    "    {'name':'John'},\n",
    "    {'name': 'Jane'},\n",
    "    {'name': 'Jessica'}\n",
    "]\n",
    "dictionary_of_lists = {\n",
    "    'lista': [0,1,2,3,4,5],\n",
    "    'listb': [12,13,14,15,16]\n",
    "}\n",
    "print(list_of_dictionaries[1]['name'])\n",
    "print(dictionary_of_lists['lista'][-1])\n",
    "\n"
   ]
  }
 ],
 "metadata": {
  "celltoolbar": "Slideshow",
  "kernelspec": {
   "display_name": "Python 3",
   "language": "python",
   "name": "python3"
  },
  "language_info": {
   "codemirror_mode": {
    "name": "ipython",
    "version": 3
   },
   "file_extension": ".py",
   "mimetype": "text/x-python",
   "name": "python",
   "nbconvert_exporter": "python",
   "pygments_lexer": "ipython3",
   "version": "3.7.1"
  }
 },
 "nbformat": 4,
 "nbformat_minor": 2
}
