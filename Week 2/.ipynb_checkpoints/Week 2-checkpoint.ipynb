{
 "cells": [
  {
   "cell_type": "markdown",
   "metadata": {
    "slideshow": {
     "slide_type": "slide"
    }
   },
   "source": [
    "# Data Types in Python\n",
    "\n",
    "</br>\n",
    "</br>\n",
    "</br>\n",
    "</br>\n",
    "\n",
    "#### Mr. Kasey P. Martin, MIS"
   ]
  },
  {
   "cell_type": "markdown",
   "metadata": {
    "slideshow": {
     "slide_type": "slide"
    }
   },
   "source": [
    "## Data Types\n",
    "* Python has five (5) standard data types:\n",
    "    * Numbers\n",
    "    * String\n",
    "    * List\n",
    "    * Tuple\n",
    "    * Dictionary"
   ]
  },
  {
   "cell_type": "markdown",
   "metadata": {
    "slideshow": {
     "slide_type": "slide"
    }
   },
   "source": [
    "### Numbers\n",
    "* Store numeric values\n",
    "    * int (signed integers)\n",
    "    ``` python\n",
    "        int_a = -7528\n",
    "        int_b = 132\n",
    "    ```\n",
    "    * float (floating point real values)\n",
    "    ``` python\n",
    "        float_a = -75.28\n",
    "        float_b = 13.2e+7\n",
    "    ```\n",
    "    * complex (complex numbers)\n",
    "    ``` python\n",
    "        #j is the imaginary unit\n",
    "        complex_a = -75.28j \n",
    "        complex_b = 13.2e-10j\n",
    "    ```"
   ]
  },
  {
   "cell_type": "markdown",
   "metadata": {
    "slideshow": {
     "slide_type": "slide"
    }
   },
   "source": [
    "### Strings\n",
    "* Contiguous set of characters enclosed by either single or double quotes\n",
    "* Here are some operations you can use on strings: "
   ]
  },
  {
   "cell_type": "markdown",
   "metadata": {
    "slideshow": {
     "slide_type": "subslide"
    }
   },
   "source": [
    "* Print the length of a string"
   ]
  },
  {
   "cell_type": "code",
   "execution_count": 28,
   "metadata": {
    "slideshow": {
     "slide_type": "-"
    }
   },
   "outputs": [
    {
     "name": "stdout",
     "output_type": "stream",
     "text": [
      "14\n"
     ]
    }
   ],
   "source": [
    "str = \"Python is fun!\"\n",
    "print(len(str))"
   ]
  },
  {
   "cell_type": "markdown",
   "metadata": {
    "slideshow": {
     "slide_type": "subslide"
    }
   },
   "source": [
    "* Print the first character of a string"
   ]
  },
  {
   "cell_type": "code",
   "execution_count": null,
   "metadata": {
    "slideshow": {
     "slide_type": "-"
    }
   },
   "outputs": [],
   "source": [
    "str = \"Python is fun!\"\n",
    "print(str[0])"
   ]
  },
  {
   "cell_type": "markdown",
   "metadata": {
    "slideshow": {
     "slide_type": "subslide"
    }
   },
   "source": [
    "* Print the last character of a string\n",
    "\n",
    "<div class=\"alert alert-block alert-info\">\n",
    "<b>INDEXING</b>   A negative index means you start counting from the end of the string. -1 represents the index of the last character.\n",
    "</div>"
   ]
  },
  {
   "cell_type": "code",
   "execution_count": 1,
   "metadata": {
    "slideshow": {
     "slide_type": "-"
    }
   },
   "outputs": [
    {
     "name": "stdout",
     "output_type": "stream",
     "text": [
      "!\n"
     ]
    }
   ],
   "source": [
    "str = \"Python is fun!\"\n",
    "print(str[-1])"
   ]
  },
  {
   "cell_type": "markdown",
   "metadata": {
    "slideshow": {
     "slide_type": "subslide"
    }
   },
   "source": [
    "* Print the substring of a string\n",
    "    * string[start:end] - Get all characters from index start to end-1\n",
    "    * string[:end] - Get all characters from the beginning of the string to end-1\n",
    "    * string[start:] - Get all characters from index start to the end of the string"
   ]
  },
  {
   "cell_type": "code",
   "execution_count": 2,
   "metadata": {
    "slideshow": {
     "slide_type": "subslide"
    }
   },
   "outputs": [
    {
     "name": "stdout",
     "output_type": "stream",
     "text": [
      "ytho\n"
     ]
    }
   ],
   "source": [
    "#Let's print the 2nd to 5th characters; string[start:end]\n",
    "str = \"Python is fun!\"\n",
    "print(str[1:5])"
   ]
  },
  {
   "cell_type": "code",
   "execution_count": 4,
   "metadata": {
    "slideshow": {
     "slide_type": "subslide"
    }
   },
   "outputs": [
    {
     "name": "stdout",
     "output_type": "stream",
     "text": [
      "Python\n"
     ]
    }
   ],
   "source": [
    "#Let's print the starting character up to the 6th character; string[:end]\n",
    "str = \"Python is fun!\"\n",
    "print(str[:6])"
   ]
  },
  {
   "cell_type": "code",
   "execution_count": 6,
   "metadata": {
    "slideshow": {
     "slide_type": "subslide"
    }
   },
   "outputs": [
    {
     "name": "stdout",
     "output_type": "stream",
     "text": [
      "thon is fun!\n"
     ]
    }
   ],
   "source": [
    "#Let's print the 3rd character up to the last; string[start:]\n",
    "str = \"Python is fun!\"\n",
    "print(str[2:])"
   ]
  },
  {
   "cell_type": "markdown",
   "metadata": {
    "slideshow": {
     "slide_type": "subslide"
    }
   },
   "source": [
    "* Print the string twice"
   ]
  },
  {
   "cell_type": "code",
   "execution_count": 7,
   "metadata": {
    "slideshow": {
     "slide_type": "-"
    }
   },
   "outputs": [
    {
     "name": "stdout",
     "output_type": "stream",
     "text": [
      "Python is fun!Python is fun!\n"
     ]
    }
   ],
   "source": [
    "str = \"Python is fun!\"\n",
    "print(str * 2)"
   ]
  },
  {
   "cell_type": "markdown",
   "metadata": {
    "slideshow": {
     "slide_type": "subslide"
    }
   },
   "source": [
    "* Concatenate the string"
   ]
  },
  {
   "cell_type": "code",
   "execution_count": 9,
   "metadata": {
    "slideshow": {
     "slide_type": "-"
    }
   },
   "outputs": [
    {
     "name": "stdout",
     "output_type": "stream",
     "text": [
      "Python is fun! And so is this class!\n"
     ]
    }
   ],
   "source": [
    "str = \"Python is fun!\"\n",
    "print(str + \" And so is this class!\")"
   ]
  },
  {
   "cell_type": "markdown",
   "metadata": {
    "slideshow": {
     "slide_type": "slide"
    }
   },
   "source": [
    "### Lists\n",
    "* Contains items separated by commas and enclosed with square brackets\n",
    "* Similar to arrays in C or C++. But unlike arrays in these languages, you can store <i> different </i> data types in lists!\n",
    "* Lists are mutable containers which means you can change its contents\n",
    "* Here are some operations you can use on lists: "
   ]
  },
  {
   "cell_type": "markdown",
   "metadata": {
    "slideshow": {
     "slide_type": "subslide"
    }
   },
   "source": [
    "* Printing out the list"
   ]
  },
  {
   "cell_type": "code",
   "execution_count": 17,
   "metadata": {
    "slideshow": {
     "slide_type": "-"
    }
   },
   "outputs": [
    {
     "name": "stdout",
     "output_type": "stream",
     "text": [
      "['John', 21, 'BS Computer Science', 90.5]\n"
     ]
    }
   ],
   "source": [
    "list = [\"John\", 21, \"BS Computer Science\", 90.5]\n",
    "print(list)"
   ]
  },
  {
   "cell_type": "markdown",
   "metadata": {
    "slideshow": {
     "slide_type": "subslide"
    }
   },
   "source": [
    "* Print the length of a list"
   ]
  },
  {
   "cell_type": "code",
   "execution_count": 29,
   "metadata": {
    "slideshow": {
     "slide_type": "-"
    }
   },
   "outputs": [
    {
     "name": "stdout",
     "output_type": "stream",
     "text": [
      "4\n"
     ]
    }
   ],
   "source": [
    "list = [\"John\", 21, \"BS Computer Science\", 90.5]\n",
    "print(len(list))"
   ]
  },
  {
   "cell_type": "markdown",
   "metadata": {
    "slideshow": {
     "slide_type": "subslide"
    }
   },
   "source": [
    "* Print the first and last element of a list\n",
    "\n",
    "<div class=\"alert alert-block alert-info\">\n",
    "<b>INDEXING</b>  Just like in strings, a negative index means you start counting from the end of the list. -1 represents the index of the last element.\n",
    "</div>"
   ]
  },
  {
   "cell_type": "code",
   "execution_count": 9,
   "metadata": {
    "slideshow": {
     "slide_type": "-"
    }
   },
   "outputs": [
    {
     "name": "stdout",
     "output_type": "stream",
     "text": [
      "First element is: John\n",
      "90.5\n"
     ]
    }
   ],
   "source": [
    "list = [\"John\", 21, \"BS Computer Science\", 90.5]\n",
    "print(\"First element is: \" + list[0])\n",
    "print(list[-1]) #this works\n",
    "#but not this: print(\"Last element is: \" + list[-1]) "
   ]
  },
  {
   "cell_type": "markdown",
   "metadata": {
    "slideshow": {
     "slide_type": "subslide"
    }
   },
   "source": [
    "* Printing out the sublist of a list is similar to strings"
   ]
  },
  {
   "cell_type": "code",
   "execution_count": 15,
   "metadata": {
    "slideshow": {
     "slide_type": "-"
    }
   },
   "outputs": [
    {
     "name": "stdout",
     "output_type": "stream",
     "text": [
      "[21, 'BS Computer Science']\n",
      "[21, 'BS Computer Science', 90.5]\n",
      "['John', 21, 'BS Computer Science']\n"
     ]
    }
   ],
   "source": [
    "list = [\"John\", 21, \"BS Computer Science\", 90.5]\n",
    "print(list[1:3])\n",
    "print(list[1:])\n",
    "print(list[:3])"
   ]
  },
  {
   "cell_type": "markdown",
   "metadata": {
    "slideshow": {
     "slide_type": "subslide"
    }
   },
   "source": [
    "* Append an item at the end of the list"
   ]
  },
  {
   "cell_type": "code",
   "execution_count": 16,
   "metadata": {
    "slideshow": {
     "slide_type": "-"
    }
   },
   "outputs": [
    {
     "name": "stdout",
     "output_type": "stream",
     "text": [
      "['John', 21, 'BS Computer Science', 90.5, 'Pass']\n"
     ]
    }
   ],
   "source": [
    "list = [\"John\", 21, \"BS Computer Science\", 90.5]\n",
    "list.append(\"Pass\")\n",
    "print(list)"
   ]
  },
  {
   "cell_type": "markdown",
   "metadata": {
    "slideshow": {
     "slide_type": "subslide"
    }
   },
   "source": [
    "* Insert an element x at index i\n",
    "* list.insert[i,x]"
   ]
  },
  {
   "cell_type": "code",
   "execution_count": 18,
   "metadata": {
    "slideshow": {
     "slide_type": "-"
    }
   },
   "outputs": [
    {
     "name": "stdout",
     "output_type": "stream",
     "text": [
      "['John', 21, 'BS Computer Science', 'Pass', 90.5]\n"
     ]
    }
   ],
   "source": [
    "list = [\"John\", 21, \"BS Computer Science\", 90.5]\n",
    "list.insert(3, \"Pass\")\n",
    "print(list)"
   ]
  },
  {
   "cell_type": "markdown",
   "metadata": {
    "slideshow": {
     "slide_type": "subslide"
    }
   },
   "source": [
    "* Remove an element x from the list if it exists"
   ]
  },
  {
   "cell_type": "code",
   "execution_count": 21,
   "metadata": {
    "slideshow": {
     "slide_type": "-"
    }
   },
   "outputs": [
    {
     "name": "stdout",
     "output_type": "stream",
     "text": [
      "['John', 21, 'BS Computer Science', 90.5]\n"
     ]
    }
   ],
   "source": [
    "list = [\"John\", 21, \"BS Computer Science\", \"Pass\", 90.5]\n",
    "list.remove(\"Pass\")\n",
    "print(list)"
   ]
  },
  {
   "cell_type": "markdown",
   "metadata": {
    "slideshow": {
     "slide_type": "subslide"
    }
   },
   "source": [
    "* Remove an element from index i\n",
    "* If no index in specified, it will remove the last item from the list"
   ]
  },
  {
   "cell_type": "code",
   "execution_count": 27,
   "metadata": {
    "slideshow": {
     "slide_type": "-"
    }
   },
   "outputs": [
    {
     "name": "stdout",
     "output_type": "stream",
     "text": [
      "['John', 'BS Computer Science', 90.5]\n"
     ]
    }
   ],
   "source": [
    "list = [\"John\", 21, \"BS Computer Science\", 90.5]\n",
    "i = 1\n",
    "list.pop(i)\n",
    "print(list)"
   ]
  },
  {
   "cell_type": "markdown",
   "metadata": {
    "slideshow": {
     "slide_type": "slide"
    }
   },
   "source": [
    "### Tuples\n",
    "* Contains items separated by commas and enclosed with parentheses\n",
    "* Similar to lists where you can store <i> different </i> data types\n",
    "* But unlike lists, tuples are immutable containers (contents cannot be changed)\n",
    "* Here are some operations you can use on tuples: "
   ]
  },
  {
   "cell_type": "markdown",
   "metadata": {
    "slideshow": {
     "slide_type": "subslide"
    }
   },
   "source": [
    "* Print the length of a tuple"
   ]
  },
  {
   "cell_type": "code",
   "execution_count": 38,
   "metadata": {
    "slideshow": {
     "slide_type": "-"
    }
   },
   "outputs": [
    {
     "name": "stdout",
     "output_type": "stream",
     "text": [
      "4\n"
     ]
    }
   ],
   "source": [
    "tuple = (\"Philippines\", 300000, \"peso\", \"Asia\") #country, land area (km^2), currency, continent\n",
    "print(len(tuple))"
   ]
  },
  {
   "cell_type": "markdown",
   "metadata": {
    "slideshow": {
     "slide_type": "subslide"
    }
   },
   "source": [
    "* Print the nth element of a tuple "
   ]
  },
  {
   "cell_type": "code",
   "execution_count": 39,
   "metadata": {
    "slideshow": {
     "slide_type": "-"
    }
   },
   "outputs": [
    {
     "name": "stdout",
     "output_type": "stream",
     "text": [
      "Philippines\n",
      "Asia\n"
     ]
    }
   ],
   "source": [
    "tuple = (\"Philippines\", 300000, \"peso\", \"Asia\") #country, land area (km^2), currency, continent\n",
    "print(tuple[0])\n",
    "print(tuple[-1])"
   ]
  },
  {
   "cell_type": "markdown",
   "metadata": {
    "slideshow": {
     "slide_type": "subslide"
    }
   },
   "source": [
    "* Print the subtuple of a tuple \n",
    "* tuple(start:end)"
   ]
  },
  {
   "cell_type": "code",
   "execution_count": 37,
   "metadata": {
    "slideshow": {
     "slide_type": "-"
    }
   },
   "outputs": [
    {
     "name": "stdout",
     "output_type": "stream",
     "text": [
      "('Philippines', 300000)\n",
      "(300000, 'peso', 'Asia')\n",
      "('Philippines', 300000, 'peso')\n"
     ]
    }
   ],
   "source": [
    "tuple = (\"Philippines\", 300000, \"peso\", \"Asia\") #country, land area (km^2), currency, continent\n",
    "print(tuple[0:2])\n",
    "print(tuple[1:])\n",
    "print(tuple[:3])"
   ]
  },
  {
   "cell_type": "markdown",
   "metadata": {
    "slideshow": {
     "slide_type": "subslide"
    }
   },
   "source": [
    "* Concatenate a tuple "
   ]
  },
  {
   "cell_type": "code",
   "execution_count": 40,
   "metadata": {
    "slideshow": {
     "slide_type": "-"
    }
   },
   "outputs": [
    {
     "name": "stdout",
     "output_type": "stream",
     "text": [
      "('Philippines', 300000, 'peso', 'Asia', 109000000, 'Filipino')\n"
     ]
    }
   ],
   "source": [
    "tuple = (\"Philippines\", 300000, \"peso\", \"Asia\") #country, land area (km^2), currency, continent\n",
    "tuple_1 = (109000000, \"Filipino\") #population, major language\n",
    "print(tuple + tuple_1)"
   ]
  },
  {
   "cell_type": "markdown",
   "metadata": {
    "slideshow": {
     "slide_type": "slide"
    }
   },
   "source": [
    "### Dictionary\n",
    "* Consists of key-value pairs where keys are required to be unique\n",
    "* Enclosed by curly braces {}\n",
    "* Here are some operations you can use on dictionaries: "
   ]
  },
  {
   "cell_type": "markdown",
   "metadata": {
    "slideshow": {
     "slide_type": "subslide"
    }
   },
   "source": [
    "* Print the length of a dictionary"
   ]
  },
  {
   "cell_type": "code",
   "execution_count": 46,
   "metadata": {
    "slideshow": {
     "slide_type": "-"
    }
   },
   "outputs": [
    {
     "name": "stdout",
     "output_type": "stream",
     "text": [
      "4\n",
      "{'country': 'Philippines', 'area': 300000, 'currency': 'peso', 'continent': 'Asia'}\n"
     ]
    }
   ],
   "source": [
    "dictionary = {\"country\":\"Philippines\", \"area\":300000, \"currency\":\"peso\", \"continent\":\"Asia\"}\n",
    "print(len(dictionary))\n",
    "print(dictionary)"
   ]
  },
  {
   "cell_type": "markdown",
   "metadata": {
    "slideshow": {
     "slide_type": "subslide"
    }
   },
   "source": [
    "* Print the keys of a dictionary"
   ]
  },
  {
   "cell_type": "code",
   "execution_count": 44,
   "metadata": {
    "slideshow": {
     "slide_type": "-"
    }
   },
   "outputs": [
    {
     "name": "stdout",
     "output_type": "stream",
     "text": [
      "dict_keys(['country', 'area', 'currency', 'continent'])\n"
     ]
    }
   ],
   "source": [
    "dictionary = {\"country\":\"Philippines\", \"area\":300000, \"currency\":\"peso\", \"continent\":\"Asia\"}\n",
    "print(dictionary.keys())"
   ]
  },
  {
   "cell_type": "markdown",
   "metadata": {
    "slideshow": {
     "slide_type": "subslide"
    }
   },
   "source": [
    "* Print the values of a dictionary"
   ]
  },
  {
   "cell_type": "code",
   "execution_count": 45,
   "metadata": {
    "slideshow": {
     "slide_type": "-"
    }
   },
   "outputs": [
    {
     "name": "stdout",
     "output_type": "stream",
     "text": [
      "dict_values(['Philippines', 300000, 'peso', 'Asia'])\n"
     ]
    }
   ],
   "source": [
    "dictionary = {\"country\":\"Philippines\", \"area\":300000, \"currency\":\"peso\", \"continent\":\"Asia\"}\n",
    "print(dictionary.values())"
   ]
  },
  {
   "cell_type": "markdown",
   "metadata": {
    "slideshow": {
     "slide_type": "subslide"
    }
   },
   "source": [
    "* Add a key-value pair to a dictionary"
   ]
  },
  {
   "cell_type": "code",
   "execution_count": 47,
   "metadata": {
    "slideshow": {
     "slide_type": "-"
    }
   },
   "outputs": [
    {
     "name": "stdout",
     "output_type": "stream",
     "text": [
      "{'country': 'Philippines', 'area': 300000, 'currency': 'peso'}\n",
      "{'country': 'Philippines', 'area': 300000, 'currency': 'peso', 'continent': 'Asia'}\n"
     ]
    }
   ],
   "source": [
    "dictionary = {\"country\":\"Philippines\", \"area\":300000, \"currency\":\"peso\"}\n",
    "print(dictionary)\n",
    "\n",
    "dictionary[\"continent\"] = \"Asia\"\n",
    "print(dictionary)"
   ]
  },
  {
   "cell_type": "markdown",
   "metadata": {
    "slideshow": {
     "slide_type": "subslide"
    }
   },
   "source": [
    "* Delete a key-value pair from a dictionary"
   ]
  },
  {
   "cell_type": "code",
   "execution_count": 48,
   "metadata": {
    "slideshow": {
     "slide_type": "-"
    }
   },
   "outputs": [
    {
     "name": "stdout",
     "output_type": "stream",
     "text": [
      "{'country': 'Philippines', 'area': 300000, 'currency': 'peso', 'continent': 'Asia'}\n",
      "{'country': 'Philippines', 'currency': 'peso', 'continent': 'Asia'}\n"
     ]
    }
   ],
   "source": [
    "dictionary = {\"country\":\"Philippines\", \"area\":300000, \"currency\":\"peso\", \"continent\":\"Asia\"}\n",
    "print(dictionary)\n",
    "\n",
    "del dictionary[\"area\"]\n",
    "print(dictionary)"
   ]
  },
  {
   "cell_type": "markdown",
   "metadata": {
    "slideshow": {
     "slide_type": "slide"
    }
   },
   "source": [
    "## References\n",
    "* http://www.tutorialspoint.com/python3/python_tutorial.pdf\n",
    "* https://guide.freecodecamp.org/python/lists/\n",
    "* https://guide.freecodecamp.org/python/data-structures/tuples/\n",
    "\n",
    "    \n",
    "\n"
   ]
  },
  {
   "cell_type": "markdown",
   "metadata": {},
   "source": [
    "Possible exercise:\n",
    "1. Write a program that will prompt the user to input three strings. Add 'ing' at the end of every string. Add the edited strings in a list and print out that list."
   ]
  }
 ],
 "metadata": {
  "celltoolbar": "Slideshow",
  "kernelspec": {
   "display_name": "Python 3",
   "language": "python",
   "name": "python3"
  },
  "language_info": {
   "codemirror_mode": {
    "name": "ipython",
    "version": 3
   },
   "file_extension": ".py",
   "mimetype": "text/x-python",
   "name": "python",
   "nbconvert_exporter": "python",
   "pygments_lexer": "ipython3",
   "version": "3.7.2"
  }
 },
 "nbformat": 4,
 "nbformat_minor": 2
}
