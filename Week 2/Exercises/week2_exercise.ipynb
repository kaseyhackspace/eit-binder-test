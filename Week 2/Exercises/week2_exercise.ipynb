{
 "cells": [
  {
   "cell_type": "markdown",
   "metadata": {},
   "source": [
    "# Week 2 Exercise\n",
    "Write a program that will prompt the user to input three strings. Add 'ing' at the end of every string. Add the edited strings in a list and print out that list.\n",
    "\n",
    "## Sample Program\n",
    "```\n",
    "Enter first string: calculate\n",
    "Enter second string: resaerch\n",
    "Enter third String: review\n",
    "\n",
    "['calculateing', 'researching', 'reviewing']\n",
    "```"
   ]
  },
  {
   "cell_type": "code",
   "execution_count": 2,
   "metadata": {},
   "outputs": [],
   "source": [
    "# Insert code here:"
   ]
  }
 ],
 "metadata": {
  "kernelspec": {
   "display_name": "Python 3",
   "language": "python",
   "name": "python3"
  },
  "language_info": {
   "codemirror_mode": {
    "name": "ipython",
    "version": 3
   },
   "file_extension": ".py",
   "mimetype": "text/x-python",
   "name": "python",
   "nbconvert_exporter": "python",
   "pygments_lexer": "ipython3",
   "version": "3.7.2"
  }
 },
 "nbformat": 4,
 "nbformat_minor": 2
}
