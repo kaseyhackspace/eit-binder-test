{
 "cells": [
  {
   "cell_type": "markdown",
   "metadata": {},
   "source": [
    "# Simple Phonebook\n",
    "Create a simple phonebook by utilizing dictionaries. The phonebook should have five existing entries. Each person will be identified by their `nickname`. For each person, their `firstname`, `lastname`, `mobile` and `email` will be pre-recorded.\n",
    "\n",
    "The script should ask the user for a `nickname`. The script should then retrieve the record by `nickname` then output the record's information such as `firstname`, `lastname`, `mobile` and `email`. Please assume that input is always correct.\n",
    "\n",
    "## Example\n",
    "\n",
    "### Sample phonebook content\n",
    " - `john`\n",
    "     - `firstname` : `John`\n",
    "     - `lastname` : `Doe`\n",
    "     - `mobile` : `09123456789`\n",
    "     - `email`: john.doe@test.com\n",
    " - `jane`\n",
    "     - `firstname` : `Jane`\n",
    "     - `lastname` : `Doe`\n",
    "     - `mobile` : `09987654321`\n",
    "     - `email`: jane.doe@test.com\n",
    "     \n",
    " ### Sample program\n",
    " ``` \n",
    " Please enter a nickname -> jane\n",
    " jane's firstname: Jane\n",
    " jane's lastname: Doe\n",
    " jane's mobile: 09987654321\n",
    " jane's email: jane.doe@test.com\n",
    " \n",
    " ```"
   ]
  },
  {
   "cell_type": "code",
   "execution_count": null,
   "metadata": {},
   "outputs": [],
   "source": []
  }
 ],
 "metadata": {
  "kernelspec": {
   "display_name": "Python 3",
   "language": "python",
   "name": "python3"
  },
  "language_info": {
   "codemirror_mode": {
    "name": "ipython",
    "version": 3
   },
   "file_extension": ".py",
   "mimetype": "text/x-python",
   "name": "python",
   "nbconvert_exporter": "python",
   "pygments_lexer": "ipython3",
   "version": "3.7.1"
  }
 },
 "nbformat": 4,
 "nbformat_minor": 2
}
